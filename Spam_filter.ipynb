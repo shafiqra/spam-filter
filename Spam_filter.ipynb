{
 "cells": [
  {
   "cell_type": "code",
   "execution_count": 1,
   "metadata": {},
   "outputs": [],
   "source": [
    "#import modules\n",
    "import matplotlib\n",
    "import spacy\n",
    "from spacy.lang.en.stop_words import STOP_WORDS as stopwords\n",
    "import os\n",
    "import random\n",
    "import en_core_web_sm\n",
    "import en_core_web_md\n",
    "import string\n"
   ]
  },
  {
   "cell_type": "markdown",
   "metadata": {},
   "source": [
    "The first step is to read each folder into a list. The following function does eactly that."
   ]
  },
  {
   "cell_type": "code",
   "execution_count": 2,
   "metadata": {},
   "outputs": [],
   "source": [
    "# This function takes as input a dir and return a list containing the text of all files\n",
    "def read_data(directory):\n",
    "    files=[]\n",
    "    for file in os.listdir(directory):\n",
    "        with open(directory + file, 'r', encoding='utf8') as f:  \n",
    "            text = f.read()\n",
    "            files.append(text)\n",
    "    return files\n",
    "    "
   ]
  },
  {
   "cell_type": "code",
   "execution_count": 98,
   "metadata": {},
   "outputs": [
    {
     "data": {
      "text/plain": [
       "'C:\\\\Users\\\\Rizwan Shafiq\\\\Documents\\\\DS\\\\ADS09\\\\Riz_spam_filter'"
      ]
     },
     "execution_count": 98,
     "metadata": {},
     "output_type": "execute_result"
    }
   ],
   "source": [
    "# Just checking my current directory. Sometime os commands may fail due to not finding files/directories. This is due to being in the incorrect direcotry.\n",
    "pwd\n",
    "cd ../Riz_spam_filter/"
   ]
  },
  {
   "cell_type": "markdown",
   "metadata": {},
   "source": [
    "Lets create two lists called spam and ham"
   ]
  },
  {
   "cell_type": "code",
   "execution_count": 4,
   "metadata": {},
   "outputs": [],
   "source": [
    "spam = read_data(\"enron1/enron1/spam/\")\n",
    "ham = read_data(\"enron1/enron1/ham/\")"
   ]
  },
  {
   "cell_type": "markdown",
   "metadata": {},
   "source": [
    "Check that it worked by printing 75 characters for 10 random records"
   ]
  },
  {
   "cell_type": "code",
   "execution_count": 131,
   "metadata": {},
   "outputs": [
    {
     "name": "stdout",
     "output_type": "stream",
     "text": [
      "spam\n",
      "'Subject: dobmeos with hgh my energy level has gone up! Stukm\\nIntroducing\\nDo'\n",
      "'Subject: your prescription is ready.. Oxwq s f e\\nLow cost prescription medi'\n",
      "'Subject: get that new car 8434\\nPeople nowthe weather or climate in any part'\n",
      "'Subject: await your response\\nDear partner,\\nWe are a team of government offi'\n",
      "'Subject: coca cola, mbna america, nascar partner with otcbb: imts\\nStock\\nPro'\n",
      "ham\n",
      "'Subject: christmas tree farm pictures\\n'\n",
      "'Subject: vastar resources, inc.\\nGary, production from the high island large'\n",
      "'Subject: calpine daily gas nomination\\n- calpine daily gas nomination 1. Doc'\n",
      "'Subject: re: issue\\nFyI - see note below - already done.\\nStella\\n- - - - - - '\n",
      "'Subject: meter 7268 nov allocation\\nFyi.\\n- - - - - - - - - - - - - - - - - -'\n"
     ]
    }
   ],
   "source": [
    "import random\n",
    "\n",
    "print(\"spam\")\n",
    "for i in range(5): \n",
    "    idx = random.choice(range(len(spam)))\n",
    "    print(repr(spam[i][:75]))\n",
    "\n",
    "print(\"ham\")\n",
    "for i in range(5): \n",
    "    idx = random.choice(range(len(ham)))\n",
    "    print(repr(ham[i][:75]))\n"
   ]
  },
  {
   "cell_type": "markdown",
   "metadata": {},
   "source": [
    "Here we confirm the length of each these lists that we created. They'll equal to the number of files in the folders ham and spam"
   ]
  },
  {
   "cell_type": "code",
   "execution_count": 132,
   "metadata": {},
   "outputs": [
    {
     "name": "stdout",
     "output_type": "stream",
     "text": [
      "Length of spam is 1500\n",
      "Length of ham is 3672\n"
     ]
    }
   ],
   "source": [
    "print(\"Length of spam is {}\".format(len(spam)))\n",
    "print(\"Length of ham is {}\".format(len(ham)))"
   ]
  },
  {
   "cell_type": "markdown",
   "metadata": {},
   "source": [
    "Here we create one list that combines both lists and assigns 1 for spam and 0 for ham"
   ]
  },
  {
   "cell_type": "code",
   "execution_count": 8,
   "metadata": {},
   "outputs": [],
   "source": [
    "# now lets create a single list and classify the messages into 1 for spam and 0 for ham\n",
    "all_messages = [(ms, 1) for ms in spam] +\\\n",
    "                [(ms, 0) for ms in ham]"
   ]
  },
  {
   "cell_type": "markdown",
   "metadata": {},
   "source": [
    "Loading Spacy's small pretrained statistical model for English"
   ]
  },
  {
   "cell_type": "code",
   "execution_count": 10,
   "metadata": {},
   "outputs": [],
   "source": [
    "nlp = spacy.load('en_core_web_sm')"
   ]
  },
  {
   "cell_type": "markdown",
   "metadata": {},
   "source": [
    "The next step is to split the text into individual words, This is called tokenisation. I'll use Spacy for this. Can equally use pythons NLTK or tfidfvectorizer that does this too. Below we create a fucntion that takes in a string and return the string after removing stopwords, changing to lower case and lemmetizing"
   ]
  },
  {
   "cell_type": "code",
   "execution_count": 134,
   "metadata": {},
   "outputs": [],
   "source": [
    "punctuations = string.punctuation\n",
    "\n",
    "def tokenizer(text):\n",
    "    tokens = nlp(text)\n",
    "    tokens = [tok.lemma_.lower().strip() if tok.lemma_ != \"-PRON-\" else tok.lower_ for tok in tokens]\n",
    "    tokens = [tok for tok in tokens if (tok not in stopwords and tok not in punctuations)]\n",
    "    return (' '.join(tokens))\n",
    "\n"
   ]
  },
  {
   "cell_type": "markdown",
   "metadata": {},
   "source": [
    "Lets run a small test"
   ]
  },
  {
   "cell_type": "code",
   "execution_count": 135,
   "metadata": {},
   "outputs": [
    {
     "name": "stdout",
     "output_type": "stream",
     "text": [
      "hi rizwan test spacy\n"
     ]
    }
   ],
   "source": [
    "print(tokenizer('Hi, my Name is RiZwan and I am testing out Spacy.'))"
   ]
  },
  {
   "cell_type": "markdown",
   "metadata": {},
   "source": [
    "Now we'll create the X and y lists before splitting into training and test sets"
   ]
  },
  {
   "cell_type": "code",
   "execution_count": 136,
   "metadata": {},
   "outputs": [],
   "source": [
    "X = [x for (x,y) in all_messages]\n",
    "\n"
   ]
  },
  {
   "cell_type": "code",
   "execution_count": 24,
   "metadata": {},
   "outputs": [
    {
     "name": "stdout",
     "output_type": "stream",
     "text": [
      "done 0.0\n",
      "done 0.019334880123743233\n",
      "done 0.038669760247486466\n",
      "done 0.058004640371229696\n",
      "done 0.07733952049497293\n",
      "done 0.09667440061871617\n",
      "done 0.11600928074245939\n",
      "done 0.13534416086620263\n",
      "done 0.15467904098994587\n",
      "done 0.1740139211136891\n",
      "done 0.19334880123743234\n",
      "done 0.21268368136117555\n",
      "done 0.23201856148491878\n",
      "done 0.251353441608662\n",
      "done 0.27068832173240526\n",
      "done 0.2900232018561485\n",
      "done 0.30935808197989173\n",
      "done 0.32869296210363497\n",
      "done 0.3480278422273782\n",
      "done 0.36736272235112144\n",
      "done 0.3866976024748647\n",
      "done 0.4060324825986079\n",
      "done 0.4253673627223511\n",
      "done 0.44470224284609433\n",
      "done 0.46403712296983757\n",
      "done 0.4833720030935808\n",
      "done 0.502706883217324\n",
      "done 0.5220417633410673\n",
      "done 0.5413766434648105\n",
      "done 0.5607115235885538\n",
      "done 0.580046403712297\n",
      "done 0.5993812838360402\n",
      "done 0.6187161639597835\n",
      "done 0.6380510440835266\n",
      "done 0.6573859242072699\n",
      "done 0.6767208043310131\n",
      "done 0.6960556844547564\n",
      "done 0.7153905645784996\n",
      "done 0.7347254447022429\n",
      "done 0.7540603248259861\n",
      "done 0.7733952049497294\n",
      "done 0.7927300850734725\n",
      "done 0.8120649651972158\n",
      "done 0.831399845320959\n",
      "done 0.8507347254447022\n",
      "done 0.8700696055684455\n",
      "done 0.8894044856921887\n",
      "done 0.908739365815932\n",
      "done 0.9280742459396751\n",
      "done 0.9474091260634184\n",
      "done 0.9667440061871616\n",
      "done 0.9860788863109049\n"
     ]
    }
   ],
   "source": [
    "X_new = []\n",
    "for i,x in enumerate(X):\n",
    "    X_new.append(tokenizer(x))\n",
    "    if i%100 ==  0:\n",
    "        print(f\"done {i/len(X)}\")\n",
    "    \n",
    "y =  [y for (x,y) in all_messages]"
   ]
  },
  {
   "cell_type": "markdown",
   "metadata": {},
   "source": [
    "Next we'll create our training set and set aside a test set for evaluation of the model.\n",
    "Using the stratify option as ours classes are imbalanced. i.e we have more ham than spam"
   ]
  },
  {
   "cell_type": "code",
   "execution_count": 65,
   "metadata": {},
   "outputs": [],
   "source": [
    "from sklearn.model_selection import train_test_split\n",
    "\n",
    "X_train, X_test, y_train, y_test = train_test_split(X_new, y,test_size=0.2, random_state=42,stratify=y)\n",
    "\n"
   ]
  },
  {
   "cell_type": "code",
   "execution_count": 137,
   "metadata": {},
   "outputs": [
    {
     "data": {
      "text/plain": [
       "'Subject: dobmeos with hgh my energy level has gone up! Stukm\\nIntroducing\\nDoctor - formulated\\nHgh\\nHuman growth hormone - also called hgh\\nIs referred to in medical science as the master hormone. It is very plentiful\\nWhen we are young, but near the age of twenty - one our bodies begin to produce\\nLess of it. By the time we are forty nearly everyone is deficient in hgh,\\nAnd at eighty our production has normally diminished at least 90 - 95%.\\nAdvantages of hgh:\\n- increased muscle strength\\n- loss in body fat\\n- increased bone density\\n- lower blood pressure\\n- quickens wound healing\\n- reduces cellulite\\n- improved vision\\n- wrinkle disappearance\\n- increased skin thickness texture\\n- increased energy levels\\n- improved sleep and emotional stability\\n- improved memory and mental alertness\\n- increased sexual potency\\n- resistance to common illness\\n- strengthened heart muscle\\n- controlled cholesterol\\n- controlled mood swings\\n- new hair growth and color restore\\nRead\\nMore at this website\\nUnsubscribe\\n'"
      ]
     },
     "execution_count": 137,
     "metadata": {},
     "output_type": "execute_result"
    }
   ],
   "source": [
    "#before tokenising\n",
    "X[0]"
   ]
  },
  {
   "cell_type": "code",
   "execution_count": 138,
   "metadata": {},
   "outputs": [
    {
     "data": {
      "text/plain": [
       "'subject dobmeo hgh energy level stukm introduce doctor formulate hgh human growth hormone hgh refer medical science master hormone plentiful young near age body begin produce time nearly deficient hgh eighty production normally diminish 90 95 advantage hgh increase muscle strength loss body fat increase bone density low blood pressure quickens wind heal reduce cellulite improve vision wrinkle disappearance increase skin thickness texture increase energy level improve sleep emotional stability improve memory mental alertness increase sexual potency resistance common illness strengthen heart muscle control cholesterol control mood swing new hair growth color restore read website unsubscribe'"
      ]
     },
     "execution_count": 138,
     "metadata": {},
     "output_type": "execute_result"
    }
   ],
   "source": [
    "#after tokenising\n",
    "X_new[0]"
   ]
  },
  {
   "cell_type": "markdown",
   "metadata": {},
   "source": [
    "now we need to do feature extraction and make the words into number that a ML algorith can understand. At the moment its all words and machinees like numbers.\n",
    "Here we'll use the tdidf vectorisor."
   ]
  },
  {
   "cell_type": "code",
   "execution_count": 139,
   "metadata": {},
   "outputs": [
    {
     "name": "stdout",
     "output_type": "stream",
     "text": [
      "(4137, 41523)\n"
     ]
    }
   ],
   "source": [
    "from sklearn.feature_extraction.text import TfidfVectorizer\n",
    "\n",
    "tfidf = TfidfVectorizer()\n",
    "X_train_tfidf = tfidf.fit_transform(X_train)\n",
    "print(X_train_tfidf.shape)\n",
    "\n"
   ]
  },
  {
   "cell_type": "markdown",
   "metadata": {},
   "source": [
    "The number of features for each of the 4137 rows has now increased to 40450 and we now have a sparse matrix.\n",
    "Now lets build a basic naive bayes classfier as a baseline model"
   ]
  },
  {
   "cell_type": "code",
   "execution_count": 140,
   "metadata": {},
   "outputs": [
    {
     "name": "stdout",
     "output_type": "stream",
     "text": [
      "subject fw 3 rd rev mar 2000 josey ranch nom fyi forward susan d trevino ho => predicted: 0 -truth-: 0\n",
      "subject propose solution pat work volume management settlement vance bob cl => predicted: 0 -truth-: 0\n",
      "subject wacog sale cannon winter 2000 01 accord contract pricing gas sell c => predicted: 0 -truth-: 0\n",
      "subject las vegas read respond asap person budget 190 person different golf => predicted: 0 -truth-: 0\n",
      "subject 10 gift image image image image image image image image image image => predicted: 0 -truth-: 0\n",
      "subject thel 0 timebestsoftwareforyou shere sjustforfun teotihuacan sunblin => predicted: 0 -truth-: 1\n",
      "subject neon bammel neon group fall 2001 doc => predicted: 0 -truth-: 0\n",
      "subject revise spreadsheet new addition => predicted: 0 -truth-: 0\n",
      "subject flexible physical nat gas product enrononline want head flexible ph => predicted: 0 -truth-: 0\n",
      "subject hour teen porn video horny young slut rigid cock ass mouthe hot pla => predicted: 1 -truth-: 1\n"
     ]
    }
   ],
   "source": [
    "\n",
    "from sklearn.naive_bayes import MultinomialNB\n",
    "\n",
    "clf = MultinomialNB().fit(X_train_tfidf, y_train)\n",
    "\n",
    "# Here we need to apply the same tfidf vectorisation to X_test\n",
    "X_test_tfidf = tfidf.transform(X_test)\n",
    "\n",
    "# Apply the classifier to the test set \n",
    "predicted = clf.predict(X_test_tfidf)\n",
    "\n",
    "for (text, pred, truth) in list(zip(X_test, predicted, y_test))[:10]:\n",
    "    print(\"{} => predicted: {} -truth-: {}\".format(text[:75], pred, truth))\n"
   ]
  },
  {
   "cell_type": "markdown",
   "metadata": {},
   "source": [
    "Looks pretty good.\n",
    "Lets first create a pipeline for this so we can simplify the code and make it reproducible"
   ]
  },
  {
   "cell_type": "code",
   "execution_count": 141,
   "metadata": {},
   "outputs": [],
   "source": [
    "from sklearn.pipeline import Pipeline\n",
    "mnb_clf = Pipeline([('tfidf', TfidfVectorizer()),\n",
    "                     ('clf', MultinomialNB())\n",
    "                    ])\n",
    "\n",
    "mnb_clf.fit(X_train, y_train)\n",
    "predicted = mnb_clf.predict(X_test)\n"
   ]
  },
  {
   "cell_type": "markdown",
   "metadata": {},
   "source": [
    "Now lets evaluate performance using the confusion matrix and classfication report"
   ]
  },
  {
   "cell_type": "code",
   "execution_count": 142,
   "metadata": {},
   "outputs": [
    {
     "name": "stdout",
     "output_type": "stream",
     "text": [
      "[[733   2]\n",
      " [ 79 221]]\n"
     ]
    }
   ],
   "source": [
    "from sklearn.metrics import confusion_matrix\n",
    "\n",
    "print(confusion_matrix(y_test, predicted))"
   ]
  },
  {
   "cell_type": "code",
   "execution_count": 143,
   "metadata": {},
   "outputs": [
    {
     "name": "stdout",
     "output_type": "stream",
     "text": [
      "              precision    recall  f1-score   support\n",
      "\n",
      "           0       0.90      1.00      0.95       735\n",
      "           1       0.99      0.74      0.85       300\n",
      "\n",
      "    accuracy                           0.92      1035\n",
      "   macro avg       0.95      0.87      0.90      1035\n",
      "weighted avg       0.93      0.92      0.92      1035\n",
      "\n"
     ]
    }
   ],
   "source": [
    "from sklearn.metrics import classification_report\n",
    "print(classification_report(y_test, predicted))"
   ]
  },
  {
   "cell_type": "markdown",
   "metadata": {},
   "source": [
    "Lets try out some other classification algorithms and compare the results.\n",
    "We can then visualise the accuracy and log loss"
   ]
  },
  {
   "cell_type": "code",
   "execution_count": 96,
   "metadata": {},
   "outputs": [
    {
     "name": "stdout",
     "output_type": "stream",
     "text": [
      "==============================\n",
      "KNN\n",
      "****Results****\n",
      "[[726   9]\n",
      " [ 32 268]]\n",
      "\n",
      "              precision    recall  f1-score   support\n",
      "\n",
      "           0       0.96      0.99      0.97       735\n",
      "           1       0.97      0.89      0.93       300\n",
      "\n",
      "    accuracy                           0.96      1035\n",
      "   macro avg       0.96      0.94      0.95      1035\n",
      "weighted avg       0.96      0.96      0.96      1035\n",
      "\n",
      "Accuracy: 96.0386%\n",
      "Log Loss: 0.3885514888423926\n",
      "==============================\n",
      "SVC\n",
      "****Results****\n",
      "[[735   0]\n",
      " [300   0]]\n",
      "\n",
      "              precision    recall  f1-score   support\n",
      "\n",
      "           0       0.71      1.00      0.83       735\n",
      "           1       0.00      0.00      0.00       300\n",
      "\n",
      "    accuracy                           0.71      1035\n",
      "   macro avg       0.36      0.50      0.42      1035\n",
      "weighted avg       0.50      0.71      0.59      1035\n",
      "\n",
      "Accuracy: 71.0145%\n",
      "Log Loss: 0.12793098517308066\n",
      "==============================\n",
      "DTC\n",
      "****Results****\n",
      "[[702  33]\n",
      " [ 45 255]]\n",
      "\n",
      "              precision    recall  f1-score   support\n",
      "\n",
      "           0       0.94      0.96      0.95       735\n",
      "           1       0.89      0.85      0.87       300\n",
      "\n",
      "    accuracy                           0.92      1035\n",
      "   macro avg       0.91      0.90      0.91      1035\n",
      "weighted avg       0.92      0.92      0.92      1035\n",
      "\n",
      "Accuracy: 92.4638%\n",
      "Log Loss: 2.602922279036748\n",
      "==============================\n",
      "RF\n",
      "****Results****\n",
      "[[720  15]\n",
      " [  8 292]]\n",
      "\n",
      "              precision    recall  f1-score   support\n",
      "\n",
      "           0       0.99      0.98      0.98       735\n",
      "           1       0.95      0.97      0.96       300\n",
      "\n",
      "    accuracy                           0.98      1035\n",
      "   macro avg       0.97      0.98      0.97      1035\n",
      "weighted avg       0.98      0.98      0.98      1035\n",
      "\n",
      "Accuracy: 97.7778%\n",
      "Log Loss: 0.12206983664458637\n",
      "==============================\n",
      "GB\n",
      "****Results****\n",
      "[[718  17]\n",
      " [ 31 269]]\n",
      "\n",
      "              precision    recall  f1-score   support\n",
      "\n",
      "           0       0.96      0.98      0.97       735\n",
      "           1       0.94      0.90      0.92       300\n",
      "\n",
      "    accuracy                           0.95      1035\n",
      "   macro avg       0.95      0.94      0.94      1035\n",
      "weighted avg       0.95      0.95      0.95      1035\n",
      "\n",
      "Accuracy: 95.3623%\n",
      "Log Loss: 0.15544854098717809\n",
      "==============================\n",
      "NB\n",
      "****Results****\n",
      "[[733   2]\n",
      " [ 79 221]]\n",
      "\n",
      "              precision    recall  f1-score   support\n",
      "\n",
      "           0       0.90      1.00      0.95       735\n",
      "           1       0.99      0.74      0.85       300\n",
      "\n",
      "    accuracy                           0.92      1035\n",
      "   macro avg       0.95      0.87      0.90      1035\n",
      "weighted avg       0.93      0.92      0.92      1035\n",
      "\n",
      "Accuracy: 92.1739%\n",
      "Log Loss: 0.15166369760446252\n"
     ]
    }
   ],
   "source": [
    "\n",
    "import pandas as pd\n",
    "from sklearn.metrics import accuracy_score, log_loss\n",
    "from sklearn.neighbors import KNeighborsClassifier\n",
    "from sklearn.svm import SVC, LinearSVC, NuSVC\n",
    "from sklearn.tree import DecisionTreeClassifier\n",
    "from sklearn.ensemble import RandomForestClassifier, AdaBoostClassifier, GradientBoostingClassifier\n",
    "from sklearn.naive_bayes import GaussianNB\n",
    "from sklearn.discriminant_analysis import LinearDiscriminantAnalysis\n",
    "from sklearn.discriminant_analysis import QuadraticDiscriminantAnalysis\n",
    "\n",
    "models.append(('NB', Pipeline([('tfidf', TfidfVectorizer()),('clf', MultinomialNB())])))\n",
    "\n",
    "\n",
    "\n",
    "classifiers = [\n",
    "    (\"KNN\", Pipeline([('tfidf', TfidfVectorizer()),('clf', KNeighborsClassifier(3))])),\n",
    "    (\"SVC\", Pipeline([('tfidf', TfidfVectorizer()),('clf', SVC(kernel=\"rbf\", C=0.025, probability=True))])),\n",
    "    (\"DTC\", Pipeline([('tfidf', TfidfVectorizer()),('clf', DecisionTreeClassifier())])),\n",
    "    (\"RF\", Pipeline([('tfidf', TfidfVectorizer()),('clf', RandomForestClassifier())])),\n",
    "    (\"GB\", Pipeline([('tfidf', TfidfVectorizer()),('clf', GradientBoostingClassifier())])),\n",
    "    (\"NB\", Pipeline([('tfidf', TfidfVectorizer()),('clf', MultinomialNB())]))\n",
    "    ]\n",
    "\n",
    "# Logging for Visual Comparison\n",
    "log_cols=[\"Classifier\", \"Accuracy\", \"Log Loss\"]\n",
    "log = pd.DataFrame(columns=log_cols)\n",
    "\n",
    "for (name,clf) in classifiers:\n",
    "    clf.fit(X_train, y_train)\n",
    "    \n",
    "    print(\"=\"*30)\n",
    "    print(name)\n",
    "    \n",
    "    print('****Results****')\n",
    "    train_predictions = clf.predict(X_test)\n",
    "    acc = accuracy_score(y_test, train_predictions)\n",
    "    \n",
    "    print(confusion_matrix(y_test, train_predictions))\n",
    "    print()\n",
    "    print(classification_report(y_test, train_predictions))\n",
    "    \n",
    "    print(\"Accuracy: {:.4%}\".format(acc))\n",
    "    \n",
    "    train_predictions = clf.predict_proba(X_test)\n",
    "    ll = log_loss(y_test, train_predictions)\n",
    "    print(\"Log Loss: {}\".format(ll))\n",
    "    \n",
    "    \n",
    "    log_entry = pd.DataFrame([[name, acc*100, ll]], columns=log_cols)\n",
    "    log = log.append(log_entry)\n",
    "\n"
   ]
  },
  {
   "cell_type": "code",
   "execution_count": 97,
   "metadata": {},
   "outputs": [
    {
     "data": {
      "image/png": "[encoded data removed]",
      "text/plain": [
       "<Figure size 432x288 with 1 Axes>"
      ]
     },
     "metadata": {
      "needs_background": "light"
     },
     "output_type": "display_data"
    },
    {
     "data": {
      "image/png": "[encoded data removed]",
      "text/plain": [
       "<Figure size 432x288 with 1 Axes>"
      ]
     },
     "metadata": {
      "needs_background": "light"
     },
     "output_type": "display_data"
    }
   ],
   "source": [
    "import seaborn as sns\n",
    "\n",
    "sns.set_color_codes(\"muted\")\n",
    "sns.barplot(x='Accuracy', y='Classifier', data=log, color=\"b\")\n",
    "\n",
    "plt.xlabel('Accuracy %')\n",
    "plt.title('Classifier Accuracy')\n",
    "plt.show()\n",
    "\n",
    "sns.set_color_codes(\"muted\")\n",
    "sns.barplot(x='Log Loss', y='Classifier', data=log, color=\"g\")\n",
    "\n",
    "plt.xlabel('Log Loss')\n",
    "plt.title('Classifier Log Loss')\n",
    "plt.show()"
   ]
  },
  {
   "cell_type": "markdown",
   "metadata": {},
   "source": [
    "All this is still without hypertuning"
   ]
  },
  {
   "cell_type": "code",
   "execution_count": null,
   "metadata": {},
   "outputs": [],
   "source": []
  }
 ],
 "metadata": {
  "kernelspec": {
   "display_name": "Python 3",
   "language": "python",
   "name": "python3"
  },
  "language_info": {
   "codemirror_mode": {
    "name": "ipython",
    "version": 3
   },
   "file_extension": ".py",
   "mimetype": "text/x-python",
   "name": "python",
   "nbconvert_exporter": "python",
   "pygments_lexer": "ipython3",
   "version": "3.7.6"
  }
 },
 "nbformat": 4,
 "nbformat_minor": 4
}
